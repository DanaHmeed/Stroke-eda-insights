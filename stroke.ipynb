{
 "cells": [
  {
   "cell_type": "markdown",
   "id": "fa157c60-ce85-47e8-bddf-99397c9961c9",
   "metadata": {},
   "source": [
    "### Healthcare_Stroke\n",
    "\n",
    "* By: Dana Hmeed"
   ]
  },
  {
   "cell_type": "markdown",
   "id": "0ef96fdf-5925-447b-be3c-d45fe1be0a36",
   "metadata": {},
   "source": [
    "### Problem Statement:\n",
    "According to the World Health Organization (WHO), stroke is the second leading cause of death globally, accounting for approximately 11% of total deaths. This dataset contains information about individuals, including demographic details (such as age and gender), health conditions (such as hypertension and heart disease), and lifestyle factors (such as smoking status). Each row in the dataset represents a sample of individuals, indicating whether they have experienced a stroke or not, along with other relevant attributes.\n",
    "\n",
    "\n",
    "### Objective:\n",
    "To perform exploratory data analysis and derive statistical insights about the factors associated with strokes, including demographic, lifestyle, and health-related features. The goal is to understand patterns and relationships within the data that could inform future healthcare studies or interventions.\n"
   ]
  },
  {
   "cell_type": "code",
   "execution_count": 60,
   "id": "631a62c4-4956-4016-b558-a721fed2768d",
   "metadata": {},
   "outputs": [],
   "source": [
    "import pandas as pd\n",
    "import matplotlib.pyplot as plt\n",
    "import seaborn as sns\n",
    "\n"
   ]
  },
  {
   "cell_type": "markdown",
   "id": "036575f4-f5c0-4df1-af70-cffca0fd20e0",
   "metadata": {},
   "source": [
    "### Data Collection\n",
    "* Data collecting is the process of gathering information from sources to build a comprehensive dataset for analysis.\n",
    "*  At firts Loading Datat import dataset in csv format byPpandas library and read_csv method."
   ]
  },
  {
   "cell_type": "code",
   "execution_count": 62,
   "id": "6b20ae6f-7f25-462c-a34e-35c0f912362a",
   "metadata": {},
   "outputs": [],
   "source": [
    "df= pd.read_csv('healthcare-dataset-stroke-data.csv')\n"
   ]
  },
  {
   "cell_type": "markdown",
   "id": "e6d48f52-7fa9-4ab5-8e8a-ab4269e2e77d",
   "metadata": {},
   "source": [
    "### Data Inspection\n",
    "It involves exploring the dataset to gain insights into its structure and quality.\n"
   ]
  },
  {
   "cell_type": "code",
   "execution_count": 46,
   "id": "bcaae086-e956-4a8e-9e06-cad07a8cb5aa",
   "metadata": {},
   "outputs": [
    {
     "data": {
      "text/html": [
       "<div>\n",
       "<style scoped>\n",
       "    .dataframe tbody tr th:only-of-type {\n",
       "        vertical-align: middle;\n",
       "    }\n",
       "\n",
       "    .dataframe tbody tr th {\n",
       "        vertical-align: top;\n",
       "    }\n",
       "\n",
       "    .dataframe thead th {\n",
       "        text-align: right;\n",
       "    }\n",
       "</style>\n",
       "<table border=\"1\" class=\"dataframe\">\n",
       "  <thead>\n",
       "    <tr style=\"text-align: right;\">\n",
       "      <th></th>\n",
       "      <th>id</th>\n",
       "      <th>gender</th>\n",
       "      <th>age</th>\n",
       "      <th>hypertension</th>\n",
       "      <th>heart_disease</th>\n",
       "      <th>ever_married</th>\n",
       "      <th>work_type</th>\n",
       "      <th>Residence_type</th>\n",
       "      <th>avg_glucose_level</th>\n",
       "      <th>bmi</th>\n",
       "      <th>smoking_status</th>\n",
       "      <th>stroke</th>\n",
       "      <th>Alcohol Consumption Frequency</th>\n",
       "      <th>High Salt</th>\n",
       "      <th>High Fat</th>\n",
       "      <th>High Sugar</th>\n",
       "    </tr>\n",
       "  </thead>\n",
       "  <tbody>\n",
       "    <tr>\n",
       "      <th>0</th>\n",
       "      <td>9046</td>\n",
       "      <td>Male</td>\n",
       "      <td>67.0</td>\n",
       "      <td>1</td>\n",
       "      <td>1</td>\n",
       "      <td>Yes</td>\n",
       "      <td>Private</td>\n",
       "      <td>Urban</td>\n",
       "      <td>228.69</td>\n",
       "      <td>36.6</td>\n",
       "      <td>formerly smoked</td>\n",
       "      <td>1</td>\n",
       "      <td>Daily</td>\n",
       "      <td>No</td>\n",
       "      <td>Yes</td>\n",
       "      <td>No</td>\n",
       "    </tr>\n",
       "    <tr>\n",
       "      <th>1</th>\n",
       "      <td>51676</td>\n",
       "      <td>Female</td>\n",
       "      <td>61.0</td>\n",
       "      <td>0</td>\n",
       "      <td>0</td>\n",
       "      <td>Yes</td>\n",
       "      <td>Self-employed</td>\n",
       "      <td>Rural</td>\n",
       "      <td>202.21</td>\n",
       "      <td>NaN</td>\n",
       "      <td>never smoked</td>\n",
       "      <td>1</td>\n",
       "      <td>Rarely</td>\n",
       "      <td>No</td>\n",
       "      <td>No</td>\n",
       "      <td>No</td>\n",
       "    </tr>\n",
       "    <tr>\n",
       "      <th>2</th>\n",
       "      <td>31112</td>\n",
       "      <td>Male</td>\n",
       "      <td>80.0</td>\n",
       "      <td>1</td>\n",
       "      <td>1</td>\n",
       "      <td>Yes</td>\n",
       "      <td>Private</td>\n",
       "      <td>Rural</td>\n",
       "      <td>105.92</td>\n",
       "      <td>32.5</td>\n",
       "      <td>never smoked</td>\n",
       "      <td>1</td>\n",
       "      <td>Rarely</td>\n",
       "      <td>No</td>\n",
       "      <td>No</td>\n",
       "      <td>No</td>\n",
       "    </tr>\n",
       "    <tr>\n",
       "      <th>3</th>\n",
       "      <td>60182</td>\n",
       "      <td>Female</td>\n",
       "      <td>49.0</td>\n",
       "      <td>1</td>\n",
       "      <td>0</td>\n",
       "      <td>Yes</td>\n",
       "      <td>Private</td>\n",
       "      <td>Urban</td>\n",
       "      <td>171.23</td>\n",
       "      <td>34.4</td>\n",
       "      <td>smokes</td>\n",
       "      <td>1</td>\n",
       "      <td>Daily</td>\n",
       "      <td>Yes</td>\n",
       "      <td>No</td>\n",
       "      <td>Yes</td>\n",
       "    </tr>\n",
       "    <tr>\n",
       "      <th>4</th>\n",
       "      <td>1665</td>\n",
       "      <td>Female</td>\n",
       "      <td>79.0</td>\n",
       "      <td>1</td>\n",
       "      <td>0</td>\n",
       "      <td>Yes</td>\n",
       "      <td>Self-employed</td>\n",
       "      <td>Rural</td>\n",
       "      <td>174.12</td>\n",
       "      <td>24.0</td>\n",
       "      <td>smokes</td>\n",
       "      <td>1</td>\n",
       "      <td>Daily</td>\n",
       "      <td>Yes</td>\n",
       "      <td>No</td>\n",
       "      <td>Yes</td>\n",
       "    </tr>\n",
       "  </tbody>\n",
       "</table>\n",
       "</div>"
      ],
      "text/plain": [
       "      id  gender   age  hypertension  heart_disease ever_married  \\\n",
       "0   9046    Male  67.0             1              1          Yes   \n",
       "1  51676  Female  61.0             0              0          Yes   \n",
       "2  31112    Male  80.0             1              1          Yes   \n",
       "3  60182  Female  49.0             1              0          Yes   \n",
       "4   1665  Female  79.0             1              0          Yes   \n",
       "\n",
       "       work_type Residence_type  avg_glucose_level   bmi   smoking_status  \\\n",
       "0        Private          Urban             228.69  36.6  formerly smoked   \n",
       "1  Self-employed          Rural             202.21   NaN     never smoked   \n",
       "2        Private          Rural             105.92  32.5     never smoked   \n",
       "3        Private          Urban             171.23  34.4           smokes   \n",
       "4  Self-employed          Rural             174.12  24.0           smokes   \n",
       "\n",
       "   stroke Alcohol Consumption Frequency High Salt High Fat High Sugar  \n",
       "0       1                         Daily        No      Yes         No  \n",
       "1       1                        Rarely        No       No         No  \n",
       "2       1                        Rarely        No       No         No  \n",
       "3       1                         Daily       Yes       No        Yes  \n",
       "4       1                         Daily       Yes       No        Yes  "
      ]
     },
     "execution_count": 46,
     "metadata": {},
     "output_type": "execute_result"
    }
   ],
   "source": [
    "df.head()"
   ]
  },
  {
   "cell_type": "code",
   "execution_count": 48,
   "id": "3146b2c9-07dc-47ea-9b12-ba811f916007",
   "metadata": {},
   "outputs": [
    {
     "data": {
      "text/html": [
       "<div>\n",
       "<style scoped>\n",
       "    .dataframe tbody tr th:only-of-type {\n",
       "        vertical-align: middle;\n",
       "    }\n",
       "\n",
       "    .dataframe tbody tr th {\n",
       "        vertical-align: top;\n",
       "    }\n",
       "\n",
       "    .dataframe thead th {\n",
       "        text-align: right;\n",
       "    }\n",
       "</style>\n",
       "<table border=\"1\" class=\"dataframe\">\n",
       "  <thead>\n",
       "    <tr style=\"text-align: right;\">\n",
       "      <th></th>\n",
       "      <th>id</th>\n",
       "      <th>gender</th>\n",
       "      <th>age</th>\n",
       "      <th>hypertension</th>\n",
       "      <th>heart_disease</th>\n",
       "      <th>ever_married</th>\n",
       "      <th>work_type</th>\n",
       "      <th>Residence_type</th>\n",
       "      <th>avg_glucose_level</th>\n",
       "      <th>bmi</th>\n",
       "      <th>smoking_status</th>\n",
       "      <th>stroke</th>\n",
       "      <th>Alcohol Consumption Frequency</th>\n",
       "      <th>High Salt</th>\n",
       "      <th>High Fat</th>\n",
       "      <th>High Sugar</th>\n",
       "    </tr>\n",
       "  </thead>\n",
       "  <tbody>\n",
       "    <tr>\n",
       "      <th>5105</th>\n",
       "      <td>18234</td>\n",
       "      <td>Female</td>\n",
       "      <td>80.0</td>\n",
       "      <td>1</td>\n",
       "      <td>0</td>\n",
       "      <td>Yes</td>\n",
       "      <td>Private</td>\n",
       "      <td>Urban</td>\n",
       "      <td>83.75</td>\n",
       "      <td>NaN</td>\n",
       "      <td>never smoked</td>\n",
       "      <td>0</td>\n",
       "      <td>Frequently</td>\n",
       "      <td>No</td>\n",
       "      <td>Yes</td>\n",
       "      <td>No</td>\n",
       "    </tr>\n",
       "    <tr>\n",
       "      <th>5106</th>\n",
       "      <td>44873</td>\n",
       "      <td>Female</td>\n",
       "      <td>81.0</td>\n",
       "      <td>0</td>\n",
       "      <td>0</td>\n",
       "      <td>Yes</td>\n",
       "      <td>Self-employed</td>\n",
       "      <td>Urban</td>\n",
       "      <td>125.20</td>\n",
       "      <td>40.0</td>\n",
       "      <td>never smoked</td>\n",
       "      <td>0</td>\n",
       "      <td>Never</td>\n",
       "      <td>No</td>\n",
       "      <td>No</td>\n",
       "      <td>Yes</td>\n",
       "    </tr>\n",
       "    <tr>\n",
       "      <th>5107</th>\n",
       "      <td>19723</td>\n",
       "      <td>Female</td>\n",
       "      <td>35.0</td>\n",
       "      <td>0</td>\n",
       "      <td>0</td>\n",
       "      <td>Yes</td>\n",
       "      <td>Self-employed</td>\n",
       "      <td>Rural</td>\n",
       "      <td>82.99</td>\n",
       "      <td>30.6</td>\n",
       "      <td>never smoked</td>\n",
       "      <td>0</td>\n",
       "      <td>Never</td>\n",
       "      <td>No</td>\n",
       "      <td>Yes</td>\n",
       "      <td>Yes</td>\n",
       "    </tr>\n",
       "    <tr>\n",
       "      <th>5108</th>\n",
       "      <td>37544</td>\n",
       "      <td>Male</td>\n",
       "      <td>51.0</td>\n",
       "      <td>0</td>\n",
       "      <td>0</td>\n",
       "      <td>Yes</td>\n",
       "      <td>Private</td>\n",
       "      <td>Rural</td>\n",
       "      <td>166.29</td>\n",
       "      <td>25.6</td>\n",
       "      <td>never smoked</td>\n",
       "      <td>0</td>\n",
       "      <td>Never</td>\n",
       "      <td>No</td>\n",
       "      <td>Yes</td>\n",
       "      <td>No</td>\n",
       "    </tr>\n",
       "    <tr>\n",
       "      <th>5109</th>\n",
       "      <td>44679</td>\n",
       "      <td>Female</td>\n",
       "      <td>44.0</td>\n",
       "      <td>0</td>\n",
       "      <td>0</td>\n",
       "      <td>Yes</td>\n",
       "      <td>Govt_job</td>\n",
       "      <td>Urban</td>\n",
       "      <td>85.28</td>\n",
       "      <td>26.2</td>\n",
       "      <td>never smoked</td>\n",
       "      <td>0</td>\n",
       "      <td>Daily</td>\n",
       "      <td>Yes</td>\n",
       "      <td>Yes</td>\n",
       "      <td>No</td>\n",
       "    </tr>\n",
       "  </tbody>\n",
       "</table>\n",
       "</div>"
      ],
      "text/plain": [
       "         id  gender   age  hypertension  heart_disease ever_married  \\\n",
       "5105  18234  Female  80.0             1              0          Yes   \n",
       "5106  44873  Female  81.0             0              0          Yes   \n",
       "5107  19723  Female  35.0             0              0          Yes   \n",
       "5108  37544    Male  51.0             0              0          Yes   \n",
       "5109  44679  Female  44.0             0              0          Yes   \n",
       "\n",
       "          work_type Residence_type  avg_glucose_level   bmi smoking_status  \\\n",
       "5105        Private          Urban              83.75   NaN   never smoked   \n",
       "5106  Self-employed          Urban             125.20  40.0   never smoked   \n",
       "5107  Self-employed          Rural              82.99  30.6   never smoked   \n",
       "5108        Private          Rural             166.29  25.6   never smoked   \n",
       "5109       Govt_job          Urban              85.28  26.2   never smoked   \n",
       "\n",
       "      stroke Alcohol Consumption Frequency High Salt High Fat High Sugar  \n",
       "5105       0                    Frequently        No      Yes         No  \n",
       "5106       0                         Never        No       No        Yes  \n",
       "5107       0                         Never        No      Yes        Yes  \n",
       "5108       0                         Never        No      Yes         No  \n",
       "5109       0                         Daily       Yes      Yes         No  "
      ]
     },
     "execution_count": 48,
     "metadata": {},
     "output_type": "execute_result"
    }
   ],
   "source": [
    "df.tail()"
   ]
  },
  {
   "cell_type": "markdown",
   "id": "655dfdb5-7f5c-45c4-bd60-93277759c2bb",
   "metadata": {},
   "source": [
    "#### Attribute Information\n",
    "Features Describtion \n",
    "* ID  unique identifier, gender, age\n",
    "* hypertension 0 if the patient doesn't have hypertension, 1 if the patient has hypertension\n",
    "* heart_diseases 0 if the patient doesn't have any heart diseases, 1 if the patient has a heart disease\n",
    "* ever_married \"No\" or \"Yes\n",
    "* work_type  \"Govt_jov\", \"Never_worked\", \"Private\" or \"Self-employed\n",
    "* Residence type: \"Rural\" or \"Urban\n",
    "* avg_glucose_leve| average glucose level\n",
    "* bmi  body mass index\n",
    "* smoking_status \"formerly smoked\", \"never smoked\", \"smokes\" or \"Unknown\n",
    "* strok  1 if the patient had a stroke or 0 if no \n",
    "\n",
    "### Note : \"Unknown\" in smoking_status means that the information is unavailable for this patient."
   ]
  },
  {
   "cell_type": "markdown",
   "id": "5ace16ca-e76b-4f73-8de3-dba6baccc0cb",
   "metadata": {},
   "source": [
    "### Data Informations:\n",
    "Providing information about the DataFrame, including data types and non-null counts"
   ]
  },
  {
   "cell_type": "code",
   "execution_count": 50,
   "id": "4adcae4f-199c-4ba3-8a83-25f013820861",
   "metadata": {},
   "outputs": [
    {
     "name": "stdout",
     "output_type": "stream",
     "text": [
      "<class 'pandas.core.frame.DataFrame'>\n",
      "RangeIndex: 5110 entries, 0 to 5109\n",
      "Data columns (total 16 columns):\n",
      " #   Column                         Non-Null Count  Dtype  \n",
      "---  ------                         --------------  -----  \n",
      " 0   id                             5110 non-null   int64  \n",
      " 1   gender                         5110 non-null   object \n",
      " 2   age                            5110 non-null   float64\n",
      " 3   hypertension                   5110 non-null   int64  \n",
      " 4   heart_disease                  5110 non-null   int64  \n",
      " 5   ever_married                   5110 non-null   object \n",
      " 6   work_type                      5110 non-null   object \n",
      " 7   Residence_type                 5110 non-null   object \n",
      " 8   avg_glucose_level              5110 non-null   float64\n",
      " 9   bmi                            4909 non-null   float64\n",
      " 10  smoking_status                 5110 non-null   object \n",
      " 11  stroke                         5110 non-null   int64  \n",
      " 12  Alcohol Consumption Frequency  5110 non-null   object \n",
      " 13  High Salt                      5110 non-null   object \n",
      " 14  High Fat                       5110 non-null   object \n",
      " 15  High Sugar                     5110 non-null   object \n",
      "dtypes: float64(3), int64(4), object(9)\n",
      "memory usage: 638.9+ KB\n"
     ]
    }
   ],
   "source": [
    "df.info()"
   ]
  },
  {
   "cell_type": "code",
   "execution_count": 25,
   "id": "999dd578-a64b-4eef-bc53-7ef25188175e",
   "metadata": {},
   "outputs": [
    {
     "data": {
      "text/plain": [
       "(5110, 16)"
      ]
     },
     "execution_count": 25,
     "metadata": {},
     "output_type": "execute_result"
    }
   ],
   "source": [
    "df.shape"
   ]
  },
  {
   "cell_type": "markdown",
   "id": "012d150c-8a92-4b04-bfac-734b46e9c579",
   "metadata": {},
   "source": [
    "#### Data Cleaning\n",
    "* Check for Duplicates:\n",
    "\n"
   ]
  },
  {
   "cell_type": "code",
   "execution_count": 52,
   "id": "c0f8b654-322e-469b-b54a-34eefac2ac44",
   "metadata": {},
   "outputs": [],
   "source": [
    "df.drop_duplicates(inplace=True)\n"
   ]
  },
  {
   "cell_type": "code",
   "execution_count": 66,
   "id": "6cbabd09-3e93-4dba-913d-7a8ebd34ef47",
   "metadata": {},
   "outputs": [],
   "source": [
    "df.drop(columns='id', inplace=True)\n",
    "#We drop id columns, because its a unique identifier number.\n",
    "#An ID column, being unique for each entry, has no patterns or relationships to exploit.\n",
    "#Including it could introduce noise and degrade model performance.\n"
   ]
  },
  {
   "cell_type": "markdown",
   "id": "5ac1df5f-26cc-4ceb-932e-ccb7757f208b",
   "metadata": {},
   "source": [
    "#### Data description\n",
    "* Displaying descriptive statistics of the DataFrame, such as mean, std, min,max e.t.c.\n"
   ]
  },
  {
   "cell_type": "code",
   "execution_count": 68,
   "id": "ea1836ad-5525-4f67-8863-648839535c37",
   "metadata": {},
   "outputs": [
    {
     "data": {
      "text/html": [
       "<div>\n",
       "<style scoped>\n",
       "    .dataframe tbody tr th:only-of-type {\n",
       "        vertical-align: middle;\n",
       "    }\n",
       "\n",
       "    .dataframe tbody tr th {\n",
       "        vertical-align: top;\n",
       "    }\n",
       "\n",
       "    .dataframe thead th {\n",
       "        text-align: right;\n",
       "    }\n",
       "</style>\n",
       "<table border=\"1\" class=\"dataframe\">\n",
       "  <thead>\n",
       "    <tr style=\"text-align: right;\">\n",
       "      <th></th>\n",
       "      <th>age</th>\n",
       "      <th>hypertension</th>\n",
       "      <th>heart_disease</th>\n",
       "      <th>avg_glucose_level</th>\n",
       "      <th>bmi</th>\n",
       "      <th>stroke</th>\n",
       "    </tr>\n",
       "  </thead>\n",
       "  <tbody>\n",
       "    <tr>\n",
       "      <th>count</th>\n",
       "      <td>5110.000000</td>\n",
       "      <td>5110.000000</td>\n",
       "      <td>5110.000000</td>\n",
       "      <td>5110.000000</td>\n",
       "      <td>4909.000000</td>\n",
       "      <td>5110.000000</td>\n",
       "    </tr>\n",
       "    <tr>\n",
       "      <th>mean</th>\n",
       "      <td>44.383170</td>\n",
       "      <td>0.122309</td>\n",
       "      <td>0.054012</td>\n",
       "      <td>106.147677</td>\n",
       "      <td>28.893237</td>\n",
       "      <td>0.070450</td>\n",
       "    </tr>\n",
       "    <tr>\n",
       "      <th>std</th>\n",
       "      <td>21.913484</td>\n",
       "      <td>0.327675</td>\n",
       "      <td>0.226063</td>\n",
       "      <td>45.283560</td>\n",
       "      <td>7.854067</td>\n",
       "      <td>0.255929</td>\n",
       "    </tr>\n",
       "    <tr>\n",
       "      <th>min</th>\n",
       "      <td>2.000000</td>\n",
       "      <td>0.000000</td>\n",
       "      <td>0.000000</td>\n",
       "      <td>55.120000</td>\n",
       "      <td>10.300000</td>\n",
       "      <td>0.000000</td>\n",
       "    </tr>\n",
       "    <tr>\n",
       "      <th>25%</th>\n",
       "      <td>27.000000</td>\n",
       "      <td>0.000000</td>\n",
       "      <td>0.000000</td>\n",
       "      <td>77.245000</td>\n",
       "      <td>23.500000</td>\n",
       "      <td>0.000000</td>\n",
       "    </tr>\n",
       "    <tr>\n",
       "      <th>50%</th>\n",
       "      <td>45.000000</td>\n",
       "      <td>0.000000</td>\n",
       "      <td>0.000000</td>\n",
       "      <td>91.885000</td>\n",
       "      <td>28.100000</td>\n",
       "      <td>0.000000</td>\n",
       "    </tr>\n",
       "    <tr>\n",
       "      <th>75%</th>\n",
       "      <td>61.000000</td>\n",
       "      <td>0.000000</td>\n",
       "      <td>0.000000</td>\n",
       "      <td>114.090000</td>\n",
       "      <td>33.100000</td>\n",
       "      <td>0.000000</td>\n",
       "    </tr>\n",
       "    <tr>\n",
       "      <th>max</th>\n",
       "      <td>89.000000</td>\n",
       "      <td>1.000000</td>\n",
       "      <td>1.000000</td>\n",
       "      <td>271.740000</td>\n",
       "      <td>97.600000</td>\n",
       "      <td>1.000000</td>\n",
       "    </tr>\n",
       "  </tbody>\n",
       "</table>\n",
       "</div>"
      ],
      "text/plain": [
       "               age  hypertension  heart_disease  avg_glucose_level  \\\n",
       "count  5110.000000   5110.000000    5110.000000        5110.000000   \n",
       "mean     44.383170      0.122309       0.054012         106.147677   \n",
       "std      21.913484      0.327675       0.226063          45.283560   \n",
       "min       2.000000      0.000000       0.000000          55.120000   \n",
       "25%      27.000000      0.000000       0.000000          77.245000   \n",
       "50%      45.000000      0.000000       0.000000          91.885000   \n",
       "75%      61.000000      0.000000       0.000000         114.090000   \n",
       "max      89.000000      1.000000       1.000000         271.740000   \n",
       "\n",
       "               bmi       stroke  \n",
       "count  4909.000000  5110.000000  \n",
       "mean     28.893237     0.070450  \n",
       "std       7.854067     0.255929  \n",
       "min      10.300000     0.000000  \n",
       "25%      23.500000     0.000000  \n",
       "50%      28.100000     0.000000  \n",
       "75%      33.100000     0.000000  \n",
       "max      97.600000     1.000000  "
      ]
     },
     "execution_count": 68,
     "metadata": {},
     "output_type": "execute_result"
    }
   ],
   "source": [
    "df.describe()"
   ]
  },
  {
   "cell_type": "markdown",
   "id": "bf43cc11-a2d8-4943-ad1e-ad950ebe08f6",
   "metadata": {},
   "source": [
    "### Handling Missing Values "
   ]
  },
  {
   "cell_type": "code",
   "execution_count": 17,
   "id": "24bc66e0-149f-49f9-96a1-97d9cad681f2",
   "metadata": {},
   "outputs": [
    {
     "name": "stdout",
     "output_type": "stream",
     "text": [
      "id                                 0\n",
      "gender                             0\n",
      "age                                0\n",
      "hypertension                       0\n",
      "heart_disease                      0\n",
      "ever_married                       0\n",
      "work_type                          0\n",
      "Residence_type                     0\n",
      "avg_glucose_level                  0\n",
      "bmi                              201\n",
      "smoking_status                     0\n",
      "stroke                             0\n",
      "Alcohol Consumption Frequency      0\n",
      "High Salt                          0\n",
      "High Fat                           0\n",
      "High Sugar                         0\n",
      "dtype: int64\n"
     ]
    }
   ],
   "source": [
    "missing_values = df.isnull().sum()\n",
    "print(missing_values)"
   ]
  },
  {
   "cell_type": "code",
   "execution_count": 84,
   "id": "54eaa76a-9c4c-4d21-8c4b-f9e80d4c0d97",
   "metadata": {},
   "outputs": [
    {
     "name": "stdout",
     "output_type": "stream",
     "text": [
      "gender                           0.000000\n",
      "age                              0.000000\n",
      "hypertension                     0.000000\n",
      "heart_disease                    0.000000\n",
      "ever_married                     0.000000\n",
      "work_type                        0.000000\n",
      "Residence_type                   0.000000\n",
      "avg_glucose_level                0.000000\n",
      "bmi                              3.933464\n",
      "smoking_status                   0.000000\n",
      "stroke                           0.000000\n",
      "Alcohol Consumption Frequency    0.000000\n",
      "High Salt                        0.000000\n",
      "High Fat                         0.000000\n",
      "High Sugar                       0.000000\n",
      "dtype: float64\n"
     ]
    }
   ],
   "source": [
    "print(df.isna().sum()/len(df)*100)"
   ]
  },
  {
   "cell_type": "markdown",
   "id": "0bb11a2e-1990-4b05-860f-cf7f67484bbf",
   "metadata": {},
   "source": [
    "#### About 4% of the bmi is missing."
   ]
  },
  {
   "cell_type": "code",
   "execution_count": 95,
   "id": "5a62bb2b-e1b7-48c4-ac76-2373f5dae94c",
   "metadata": {},
   "outputs": [],
   "source": [
    "# Filling missing values in the 'bmi' column using its mean\n",
    "df_filled = df.copy() \n",
    "df_filled['bmi'] = df_filled['bmi'].fillna(df_filled['bmi'].mean())\n"
   ]
  },
  {
   "cell_type": "code",
   "execution_count": 23,
   "id": "a2ed660b-3560-439f-8d1e-1deb4e727e3d",
   "metadata": {},
   "outputs": [
    {
     "data": {
      "text/plain": [
       "0       36.600000\n",
       "1       28.893237\n",
       "2       32.500000\n",
       "3       34.400000\n",
       "4       24.000000\n",
       "          ...    \n",
       "5105    28.893237\n",
       "5106    40.000000\n",
       "5107    30.600000\n",
       "5108    25.600000\n",
       "5109    26.200000\n",
       "Name: bmi, Length: 5110, dtype: float64"
      ]
     },
     "execution_count": 23,
     "metadata": {},
     "output_type": "execute_result"
    }
   ],
   "source": [
    "data_filled['bmi']"
   ]
  },
  {
   "cell_type": "markdown",
   "id": "0979aa98-e7fd-4d8b-9f73-fc4f31114001",
   "metadata": {},
   "source": [
    "### Visualization and Plots"
   ]
  },
  {
   "cell_type": "code",
   "execution_count": 87,
   "id": "d644e99a-7b84-42b8-b61b-b9e0ff402ce3",
   "metadata": {},
   "outputs": [],
   "source": [
    "numeric_columns = ['age', 'bmi', 'avg_glucose_level']\n",
    "categorical_columns = ['gender', 'hypertension', 'heart_disease', 'ever_married', 'work_type', 'Residence_type', 'smoking_status', 'stroke']"
   ]
  },
  {
   "cell_type": "code",
   "execution_count": 99,
   "id": "87340c20-8867-497d-a47d-65a6f43b12c9",
   "metadata": {},
   "outputs": [
    {
     "data": {
      "image/png": "[encoded data removed]",
      "text/plain": [
       "<Figure size 640x480 with 1 Axes>"
      ]
     },
     "metadata": {},
     "output_type": "display_data"
    }
   ],
   "source": [
    "import matplotlib.pyplot as plt\n",
    "import seaborn as sns\n",
    "\n",
    "# Scatter Plot age vs Stroke\n",
    "sns.scatterplot(x=numeric_columns[0], y='stroke', data=df_filled)\n",
    "plt.title('Scatter Plot for age vs Stroke')\n",
    "plt.show()\n",
    "\n",
    "\n"
   ]
  },
  {
   "cell_type": "code",
   "execution_count": 101,
   "id": "e87c4701-d4be-4818-b8a1-982f7b6c9905",
   "metadata": {},
   "outputs": [
    {
     "data": {
      "image/png": "[encoded data removed]",
      "text/plain": [
       "<Figure size 640x480 with 1 Axes>"
      ]
     },
     "metadata": {},
     "output_type": "display_data"
    }
   ],
   "source": [
    "# Boxplot for the second numeric column (bmi)\n",
    "sns.boxplot(x=numeric_columns[1], data=df_filled)\n",
    "plt.title('Boxplot for Bmi')\n",
    "plt.show()\n"
   ]
  },
  {
   "cell_type": "code",
   "execution_count": 37,
   "id": "5237cddb-6388-49d5-810c-9923dc660c2e",
   "metadata": {},
   "outputs": [
    {
     "data": {
      "image/png": "[encoded data removed]",
      "text/plain": [
       "<Figure size 640x480 with 1 Axes>"
      ]
     },
     "metadata": {},
     "output_type": "display_data"
    }
   ],
   "source": [
    "# Scatter Plot for the third numeric column vs Stroke\n",
    "sns.scatterplot(x=numeric_columns[2], y='stroke', data=df)\n",
    "plt.title(f'Scatter Plot for {numeric_columns[2]} vs Stroke')\n",
    "plt.show()\n"
   ]
  },
  {
   "cell_type": "markdown",
   "id": "cea22a1e-b380-4ac4-9635-c798a3cd71d6",
   "metadata": {},
   "source": [
    "### Grouping"
   ]
  },
  {
   "cell_type": "code",
   "execution_count": 105,
   "id": "af246738-8233-45e2-88cb-feb3c4dfaa05",
   "metadata": {},
   "outputs": [
    {
     "name": "stdout",
     "output_type": "stream",
     "text": [
      "    smoking_status  stroke\n",
      "0          Unknown      29\n",
      "1  formerly smoked      28\n",
      "2     never smoked      36\n",
      "3           smokes     267\n"
     ]
    }
   ],
   "source": [
    "# Group by smoking_status and calculate the sum of stroke cases for each category\n",
    "stroke_by_smoking_status = df.groupby('smoking_status')['stroke'].sum().reset_index()\n",
    "print(stroke_by_smoking_status)\n"
   ]
  },
  {
   "cell_type": "code",
   "execution_count": 41,
   "id": "88a5215d-b9db-453a-955f-e9e1ade614ab",
   "metadata": {},
   "outputs": [
    {
     "data": {
      "image/png": "[encoded data removed]",
      "text/plain": [
       "<Figure size 640x480 with 1 Axes>"
      ]
     },
     "metadata": {},
     "output_type": "display_data"
    }
   ],
   "source": [
    "import matplotlib.pyplot as plt\n",
    "plt.bar(stroke_by_smoking_status['smoking_status'], stroke_by_smoking_status['stroke'], color='black')\n",
    "plt.xlabel('smoking_status')\n",
    "plt.ylabel('Number of Stroke Cases')\n",
    "plt.title('Stroke Occurrences by Smoking Status')\n",
    "plt.show()\n"
   ]
  },
  {
   "cell_type": "code",
   "execution_count": 43,
   "id": "0f7549cb-0daf-4089-970b-ce0f985bcf82",
   "metadata": {},
   "outputs": [
    {
     "name": "stdout",
     "output_type": "stream",
     "text": [
      "   heart_disease  stroke  count\n",
      "0              0       0   4528\n",
      "1              0       1    306\n",
      "2              1       0    222\n",
      "3              1       1     54\n"
     ]
    }
   ],
   "source": [
    "# Group by heart disease and stroke to count the number of people in each category\n",
    "heart_disease_stroke_count = df.groupby(['heart_disease', 'stroke']).size().reset_index(name='count')\n",
    "print(heart_disease_stroke_count)\n"
   ]
  },
  {
   "cell_type": "code",
   "execution_count": 109,
   "id": "e3c47205-3cbe-4995-83cc-27667894d49a",
   "metadata": {},
   "outputs": [
    {
     "name": "stdout",
     "output_type": "stream",
     "text": [
      "  Alcohol Consumption Frequency  stroke\n",
      "0                         Daily     110\n",
      "1                    Frequently      58\n",
      "2                         Never      88\n",
      "3                  Occasionally      46\n",
      "4                        Rarely      58\n"
     ]
    }
   ],
   "source": [
    "# Group by Alcohol Consumption Frequency and calculate the number of people who had a stroke\n",
    "stroke_by_alcohol_consumption = df.groupby('Alcohol Consumption Frequency')['stroke'].sum().reset_index()\n",
    "print(stroke_by_alcohol_consumption)\n"
   ]
  },
  {
   "cell_type": "code",
   "execution_count": 47,
   "id": "85486098-acf7-4444-aca8-c41ba912ef48",
   "metadata": {},
   "outputs": [
    {
     "data": {
      "image/png": "[encoded data removed]",
      "text/plain": [
       "<Figure size 640x480 with 1 Axes>"
      ]
     },
     "metadata": {},
     "output_type": "display_data"
    }
   ],
   "source": [
    "# Create a bar chart for Stroke vs Alcohol Consumption Frequency\n",
    "plt.bar(stroke_by_alcohol_consumption['Alcohol Consumption Frequency'], stroke_by_alcohol_consumption['stroke'], color='red')\n",
    "plt.xlabel('Alcohol Consumption Frequency')\n",
    "plt.ylabel('Number of Strokes')\n",
    "plt.title('Stroke vs Alcohol Consumption Frequency')\n",
    "plt.show()\n"
   ]
  },
  {
   "cell_type": "code",
   "execution_count": 113,
   "id": "84eb8670-1127-4265-be58-24ca8b2e2bab",
   "metadata": {},
   "outputs": [
    {
     "name": "stdout",
     "output_type": "stream",
     "text": [
      "   gender  stroke\n",
      "0  Female     216\n",
      "1    Male     144\n",
      "2   Other       0\n"
     ]
    }
   ],
   "source": [
    "# Group by gender and hypertension to count the number of strokes\n",
    "stroke_by_gender_hypertension = df.groupby(['gender'])['stroke'].sum().reset_index()\n",
    "print(stroke_by_gender_hypertension)\n"
   ]
  },
  {
   "cell_type": "markdown",
   "id": "29ebc8d6-f9e3-4cc9-9479-18e527db628b",
   "metadata": {},
   "source": [
    "### The Average glucose levels for individuals with and without strokes?"
   ]
  },
  {
   "cell_type": "code",
   "execution_count": 71,
   "id": "89c21fd9-a4ae-4573-9f6f-6ec716204167",
   "metadata": {},
   "outputs": [
    {
     "name": "stdout",
     "output_type": "stream",
     "text": [
      "\n",
      "3. Average Glucose Levels by Stroke Status:\n",
      "stroke\n",
      "0    104.566899\n",
      "1    127.005167\n",
      "Name: avg_glucose_level, dtype: float64\n"
     ]
    }
   ],
   "source": [
    "avg_glucose_stroke = df.groupby('stroke')['avg_glucose_level'].mean()\n",
    "print(\"Average Glucose Levels by Stroke Status:\")\n",
    "print(avg_glucose_stroke)"
   ]
  },
  {
   "cell_type": "markdown",
   "id": "956605f3-b762-47ac-8599-6645d20f27ef",
   "metadata": {},
   "source": [
    "### what is the Average BMI by stroke status?"
   ]
  },
  {
   "cell_type": "code",
   "execution_count": 86,
   "id": "345b85b7-edf9-4ad1-b5ac-784523ce219f",
   "metadata": {},
   "outputs": [
    {
     "name": "stdout",
     "output_type": "stream",
     "text": [
      "\n",
      "Average BMI by Stroke Status:\n",
      "stroke\n",
      "0    28.800632\n",
      "1    30.230189\n",
      "Name: bmi, dtype: float64\n"
     ]
    }
   ],
   "source": [
    "avg_bmi_stroke = df.groupby('stroke')['bmi'].mean()\n",
    "print(\"\\nAverage BMI by Stroke Status:\")\n",
    "print(avg_bmi_stroke)\n"
   ]
  },
  {
   "cell_type": "markdown",
   "id": "88005ab1-9951-4b90-8dda-9bdd30018d87",
   "metadata": {},
   "source": [
    "### Which work types are associated with higher stroke prevalence?"
   ]
  },
  {
   "cell_type": "code",
   "execution_count": 91,
   "id": "3028afbe-cbe1-499d-bbcb-25f998eacc59",
   "metadata": {},
   "outputs": [
    {
     "name": "stdout",
     "output_type": "stream",
     "text": [
      "\n",
      "Stroke Prevalence by Work Type:\n",
      "work_type\n",
      "Govt_job         0.070015\n",
      "Never_worked     0.045455\n",
      "Private          0.074530\n",
      "Self-employed    0.102564\n",
      "children         0.016012\n",
      "Name: stroke, dtype: float64\n"
     ]
    }
   ],
   "source": [
    "work_type_stroke = df.groupby('work_type')['stroke'].mean()\n",
    "print(\"\\nStroke Prevalence by Work Type:\")\n",
    "print(work_type_stroke)\n"
   ]
  },
  {
   "cell_type": "markdown",
   "id": "f401e87b-d976-4b76-888e-e673419f3252",
   "metadata": {},
   "source": [
    "###  What is the overall correlation between age, BMI, glucose level, and stroke occurrence?\n",
    "\n"
   ]
  },
  {
   "cell_type": "code",
   "execution_count": 95,
   "id": "849be53c-6505-4af8-95a0-0342450d6e05",
   "metadata": {},
   "outputs": [
    {
     "name": "stdout",
     "output_type": "stream",
     "text": [
      "\n",
      "Correlation Matrix for Age, BMI, Glucose Level, and Stroke:\n",
      "                        age       bmi  avg_glucose_level    stroke\n",
      "age                1.000000  0.333398           0.238171  0.215185\n",
      "bmi                0.333398  1.000000           0.175502  0.044805\n",
      "avg_glucose_level  0.238171  0.175502           1.000000  0.126814\n",
      "stroke             0.215185  0.044805           0.126814  1.000000\n"
     ]
    }
   ],
   "source": [
    "\n",
    "correlation_matrix = df[['age', 'bmi', 'avg_glucose_level', 'stroke']].corr()\n",
    "print(\"\\nCorrelation Matrix for Age, BMI, Glucose Level, and Stroke:\")\n",
    "print(correlation_matrix)\n",
    "\n"
   ]
  },
  {
   "cell_type": "markdown",
   "id": "2bf43090-2435-4df0-b79d-24baf70d51b0",
   "metadata": {},
   "source": [
    "### Role of dietary habits in stroke occurrences\n"
   ]
  },
  {
   "cell_type": "code",
   "execution_count": 118,
   "id": "5a882c4e-cd9d-4a86-aa7c-06b358ac1d15",
   "metadata": {},
   "outputs": [
    {
     "name": "stdout",
     "output_type": "stream",
     "text": [
      "Stroke by eating Habits:\n",
      "habit:\n",
      "High Salt\n",
      "No     0.072266\n",
      "Yes    0.068627\n",
      "Name: stroke, dtype: float64\n",
      "habit:\n",
      "High Fat\n",
      "No     0.070845\n",
      "Yes    0.070051\n",
      "Name: stroke, dtype: float64\n",
      "habit:\n",
      "High Sugar\n",
      "No     0.076627\n",
      "Yes    0.064067\n",
      "Name: stroke, dtype: float64\n"
     ]
    }
   ],
   "source": [
    "dietary_stroke_impact = {\n",
    "    \"High Salt\": df.groupby('High Salt')['stroke'].mean(),\n",
    "    \"High Fat\": df.groupby('High Fat')['stroke'].mean(),\n",
    "    \"High Sugar\": df.groupby('High Sugar')['stroke'].mean()\n",
    "}\n",
    "\n",
    "dietary_stroke_df = pd.DataFrame(dietary_stroke_impact)\n",
    "print(\"Stroke by Eating Habits:\")\n",
    "print(dietary_stroke_df)\n"
   ]
  },
  {
   "cell_type": "code",
   "execution_count": null,
   "id": "2edf4f99-06e2-4b1c-809b-e93975c120cf",
   "metadata": {},
   "outputs": [],
   "source": []
  }
 ],
 "metadata": {
  "kernelspec": {
   "display_name": "Python 3 (ipykernel)",
   "language": "python",
   "name": "python3"
  },
  "language_info": {
   "codemirror_mode": {
    "name": "ipython",
    "version": 3
   },
   "file_extension": ".py",
   "mimetype": "text/x-python",
   "name": "python",
   "nbconvert_exporter": "python",
   "pygments_lexer": "ipython3",
   "version": "3.12.4"
  }
 },
 "nbformat": 4,
 "nbformat_minor": 5
}
